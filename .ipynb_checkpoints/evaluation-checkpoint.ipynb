{
 "cells": [
  {
   "cell_type": "code",
   "execution_count": 5,
   "id": "initial_id",
   "metadata": {
    "collapsed": true,
    "ExecuteTime": {
     "end_time": "2024-02-09T11:56:57.056743Z",
     "start_time": "2024-02-09T11:56:57.052919Z"
    }
   },
   "outputs": [],
   "source": [
    "import src.util.evaluation as ev\n",
    "\n",
    "PCA_THRESHOLD = .97"
   ]
  },
  {
   "cell_type": "code",
   "execution_count": 6,
   "outputs": [
    {
     "name": "stdout",
     "output_type": "stream",
     "text": [
      "Loading MNIST dataset... Reducing features with PCA... Features reduced (784 -> 214)... Done!\n",
      "LinearSVM(C=1.0)\n"
     ]
    }
   ],
   "source": [
    "from src.svc.linearsvm import LinearSVM\n",
    "\n",
    "model = LinearSVM(pca_threshold=PCA_THRESHOLD)\n",
    "print(model)"
   ],
   "metadata": {
    "collapsed": false,
    "ExecuteTime": {
     "end_time": "2024-02-09T11:57:17.774848Z",
     "start_time": "2024-02-09T11:56:57.652160Z"
    }
   },
   "id": "4f60e945068849b3"
  },
  {
   "cell_type": "code",
   "execution_count": 7,
   "outputs": [
    {
     "name": "stdout",
     "output_type": "stream",
     "text": [
      "Training ...\n"
     ]
    }
   ],
   "source": [
    "model.train()"
   ],
   "metadata": {
    "collapsed": false,
    "ExecuteTime": {
     "start_time": "2024-02-09T11:57:30.385030Z"
    }
   },
   "id": "38604dd083516356"
  },
  {
   "cell_type": "markdown",
   "source": [
    "## Evaluation"
   ],
   "metadata": {
    "collapsed": false
   },
   "id": "910203da092fe41a"
  },
  {
   "cell_type": "code",
   "execution_count": null,
   "outputs": [],
   "source": [
    "ev.report(model)"
   ],
   "metadata": {
    "collapsed": false
   },
   "id": "dd1c942441447f8a"
  },
  {
   "cell_type": "code",
   "execution_count": null,
   "outputs": [],
   "source": [
    "ev.confusion_matrix_custom_display(model)"
   ],
   "metadata": {
    "collapsed": false
   },
   "id": "8f6e72f33e6895e1"
  },
  {
   "cell_type": "code",
   "execution_count": null,
   "outputs": [],
   "source": [
    "ev.recursive_predict(model, 'examples/img')"
   ],
   "metadata": {
    "collapsed": false
   },
   "id": "ef1cf35bae25cd0f"
  }
 ],
 "metadata": {
  "kernelspec": {
   "display_name": "Python 3",
   "language": "python",
   "name": "python3"
  },
  "language_info": {
   "codemirror_mode": {
    "name": "ipython",
    "version": 2
   },
   "file_extension": ".py",
   "mimetype": "text/x-python",
   "name": "python",
   "nbconvert_exporter": "python",
   "pygments_lexer": "ipython2",
   "version": "2.7.6"
  }
 },
 "nbformat": 4,
 "nbformat_minor": 5
}
