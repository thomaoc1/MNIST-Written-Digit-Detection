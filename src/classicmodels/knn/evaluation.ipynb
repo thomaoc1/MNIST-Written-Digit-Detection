{
 "cells": [
  {
   "cell_type": "code",
   "execution_count": 3,
   "id": "initial_id",
   "metadata": {
    "ExecuteTime": {
     "end_time": "2024-02-09T14:19:32.071930Z",
     "start_time": "2024-02-09T14:19:32.060887Z"
    }
   },
   "outputs": [],
   "source": [
    "import src.util.evaluation as ev\n",
    "\n",
    "PCA_THRESHOLD = .97"
   ]
  },
  {
   "cell_type": "markdown",
   "source": [
    "## Model Initialisation & Training\n",
    "### With Cross Validation Hyperparameter Tuning"
   ],
   "metadata": {
    "collapsed": false
   },
   "id": "b560498e23629f09"
  },
  {
   "cell_type": "code",
   "execution_count": 4,
   "outputs": [
    {
     "name": "stdout",
     "output_type": "stream",
     "text": [
      "Loading MNIST dataset... Reducing features with PCA... Features reduced (784 -> 214)... Done!\n",
      "Fitting 3 folds for each of 4 candidates, totalling 12 fits\n",
      "[CV] END ......................................n_neighbors=1; total time=   2.2s\n",
      "[CV] END ......................................n_neighbors=1; total time=   2.1s\n",
      "[CV] END ......................................n_neighbors=1; total time=   2.0s\n",
      "[CV] END ......................................n_neighbors=2; total time=   2.1s\n",
      "[CV] END ......................................n_neighbors=2; total time=   2.0s\n",
      "[CV] END ......................................n_neighbors=2; total time=   2.1s\n",
      "[CV] END ......................................n_neighbors=3; total time=   2.1s\n",
      "[CV] END ......................................n_neighbors=3; total time=   2.1s\n",
      "[CV] END ......................................n_neighbors=3; total time=   2.1s\n",
      "[CV] END ......................................n_neighbors=4; total time=   2.1s\n",
      "[CV] END ......................................n_neighbors=4; total time=   2.1s\n",
      "[CV] END ......................................n_neighbors=4; total time=   2.1s\n",
      "Best parameters found:  {'n_neighbors': 1}\n",
      "Best cross-validation score: 0.97\n"
     ]
    },
    {
     "data": {
      "text/plain": "KNN(n_neighbors=1)"
     },
     "execution_count": 4,
     "metadata": {},
     "output_type": "execute_result"
    }
   ],
   "source": [
    "import src.classicmodels.knn.knn as knn\n",
    "import importlib\n",
    "importlib.reload(knn)\n",
    "\n",
    "model = knn.KNN(pca_threshold=PCA_THRESHOLD, hparam_tuning_method='grid')\n",
    "model"
   ],
   "metadata": {
    "collapsed": false,
    "ExecuteTime": {
     "end_time": "2024-02-09T14:20:25.667822Z",
     "start_time": "2024-02-09T14:19:42.264252Z"
    }
   },
   "id": "bc1347426cee6ee7"
  },
  {
   "cell_type": "markdown",
   "source": [
    "### Without Cross Validation Hyperparameter Tuning (default)"
   ],
   "metadata": {
    "collapsed": false
   },
   "id": "ba315b78fb67e7d1"
  },
  {
   "cell_type": "code",
   "execution_count": 10,
   "outputs": [
    {
     "name": "stdout",
     "output_type": "stream",
     "text": [
      "Loading MNIST dataset... Reducing features with PCA... Features reduced (784 -> 214)... Done!\n"
     ]
    },
    {
     "data": {
      "text/plain": "KNN(n_neighbors=1)"
     },
     "execution_count": 10,
     "metadata": {},
     "output_type": "execute_result"
    }
   ],
   "source": [
    "import src.classicmodels.knn.knn as knn\n",
    "import importlib\n",
    "importlib.reload(knn)\n",
    "\n",
    "model = knn.KNN(pca_threshold=PCA_THRESHOLD)\n",
    "model"
   ],
   "metadata": {
    "collapsed": false,
    "ExecuteTime": {
     "end_time": "2024-02-09T14:22:45.401439Z",
     "start_time": "2024-02-09T14:22:26.366740Z"
    }
   },
   "id": "6c9ed8c69cdcd297"
  },
  {
   "cell_type": "markdown",
   "source": [
    "### Model Training"
   ],
   "metadata": {
    "collapsed": false
   },
   "id": "69e0648ad065e36b"
  },
  {
   "cell_type": "code",
   "execution_count": 11,
   "outputs": [
    {
     "name": "stdout",
     "output_type": "stream",
     "text": [
      "Training ...\n",
      "Done!\n"
     ]
    }
   ],
   "source": [
    "model.train()"
   ],
   "metadata": {
    "collapsed": false,
    "ExecuteTime": {
     "end_time": "2024-02-09T14:23:23.093391Z",
     "start_time": "2024-02-09T14:23:23.071640Z"
    }
   },
   "id": "58a6f1e36adb7533"
  },
  {
   "cell_type": "markdown",
   "source": [
    "## Evaluation"
   ],
   "metadata": {
    "collapsed": false
   },
   "id": "4b5b6ff4d5095ce8"
  },
  {
   "cell_type": "code",
   "execution_count": 12,
   "outputs": [
    {
     "name": "stdout",
     "output_type": "stream",
     "text": [
      "              precision    recall  f1-score   support\n",
      "\n",
      "           0       0.98      0.99      0.99       980\n",
      "           1       0.96      0.99      0.98      1135\n",
      "           2       0.98      0.97      0.97      1032\n",
      "           3       0.96      0.96      0.96      1010\n",
      "           4       0.97      0.96      0.96       982\n",
      "           5       0.95      0.97      0.96       892\n",
      "           6       0.98      0.99      0.98       958\n",
      "           7       0.96      0.96      0.96      1028\n",
      "           8       0.98      0.95      0.96       974\n",
      "           9       0.96      0.96      0.96      1009\n",
      "\n",
      "    accuracy                           0.97     10000\n",
      "   macro avg       0.97      0.97      0.97     10000\n",
      "weighted avg       0.97      0.97      0.97     10000\n"
     ]
    }
   ],
   "source": [
    "ev.report(model)"
   ],
   "metadata": {
    "collapsed": false,
    "ExecuteTime": {
     "end_time": "2024-02-09T14:23:25.812622Z",
     "start_time": "2024-02-09T14:23:24.308963Z"
    }
   },
   "id": "6519069415c59792"
  },
  {
   "cell_type": "markdown",
   "source": [
    "### Confusion Matrix\n",
    "The following confusion matrix replaces all normalised values < 0.01 with 0.0 for better readability."
   ],
   "metadata": {
    "collapsed": false
   },
   "id": "a9c68df4597478a"
  },
  {
   "cell_type": "code",
   "execution_count": 13,
   "outputs": [
    {
     "data": {
      "text/plain": "<Figure size 640x480 with 2 Axes>",
      "image/png": "[encoded data removed]"
     },
     "metadata": {},
     "output_type": "display_data"
    }
   ],
   "source": [
    "ev.confusion_matrix_custom_display(model) "
   ],
   "metadata": {
    "collapsed": false,
    "ExecuteTime": {
     "end_time": "2024-02-09T14:23:28.535589Z",
     "start_time": "2024-02-09T14:23:26.930685Z"
    }
   },
   "id": "b148c9e1c54afbdf"
  },
  {
   "cell_type": "markdown",
   "source": [
    "### Example Predictions"
   ],
   "metadata": {
    "collapsed": false
   },
   "id": "8f5a5189c3ed1cf4"
  },
  {
   "cell_type": "code",
   "execution_count": 14,
   "id": "ef1cf35bae25cd0f",
   "metadata": {
    "collapsed": false,
    "ExecuteTime": {
     "end_time": "2024-02-09T14:23:30.249162Z",
     "start_time": "2024-02-09T14:23:29.919918Z"
    }
   },
   "outputs": [
    {
     "data": {
      "text/plain": "<Figure size 2000x400 with 4 Axes>",
      "image/png": "[encoded data removed]"
     },
     "metadata": {},
     "output_type": "display_data"
    }
   ],
   "source": [
    "ev.recursive_predict(model, '../../../examples/img')"
   ]
  }
 ],
 "metadata": {
  "kernelspec": {
   "display_name": "Python 3 (ipykernel)",
   "language": "python",
   "name": "python3"
  },
  "language_info": {
   "codemirror_mode": {
    "name": "ipython",
    "version": 3
   },
   "file_extension": ".py",
   "mimetype": "text/x-python",
   "name": "python",
   "nbconvert_exporter": "python",
   "pygments_lexer": "ipython3",
   "version": "3.9.6"
  }
 },
 "nbformat": 4,
 "nbformat_minor": 5
}
